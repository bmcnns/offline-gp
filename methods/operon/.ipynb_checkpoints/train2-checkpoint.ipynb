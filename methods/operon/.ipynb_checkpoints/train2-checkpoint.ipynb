{
 "cells": [
  {
   "cell_type": "code",
   "execution_count": null,
   "id": "ad543450-2037-4bc7-950d-4aa55c54e7c0",
   "metadata": {},
   "outputs": [],
   "source": [
    "from dataset import load_dataset\n",
    "from sklearn.preprocessing import StandardScaler\n",
    "from pyoperon.sklearn import SymbolicRegressor\n",
    "import os\n",
    "import pickle\n",
    "\n",
    "def train(dataset_name, num_independent_runs, save_dir, hyperparameters):\n",
    "    X, y = load_dataset(dataset_name)\n",
    "    \n",
    "    scaler = StandardScaler()\n",
    "    X = scaler.fit_transform(X)\n",
    "\n",
    "    for run in range(num_independent_runs):\n",
    "        models = []\n",
    "        for action in range(y.shape[1]):\n",
    "            y_i = y[:, action]\n",
    "\n",
    "            start = random.randint(0, 1,000,000 - 1000)\n",
    "            end = start + 1000\n",
    "            X_subset = X[start:end]\n",
    "            y_subset = y_i[start:end]\n",
    "            \n",
    "            parameters = {\n",
    "                'allowed_symbols': 'add,sub,mul,div,fmin,fmax,pow,ceil,floor,exp,cos,sin,constant,variable',\n",
    "                'offspring_generator': 'basic',\n",
    "                'reinserter': 'keep-best',\n",
    "                'n_threads': 16,\n",
    "                'optimizer_iterations': 1,\n",
    "                'objectives': ['mse'],\n",
    "                'tournament_size': 3,\n",
    "                'generations': 1,\n",
    "                'warm_start': True,\n",
    "            }\n",
    "            \n",
    "            model = SymbolicRegressor(**parameters)\n",
    "\n",
    "            for generation in range(1000):\n",
    "                model.fit(X_subset, y_subset)\n",
    "                print(model.get_model_string(model.model_))\n",
    "                \n",
    "            models.append(model)\n",
    "        \n",
    "        os.makedirs(save_dir, exist_ok=True)\n",
    "        with open(f'{save_dir}/model_{run}.pkl', 'wb') as f:\n",
    "            pickle.dump((models, scaler), f)\n"
   ]
  }
 ],
 "metadata": {
  "kernelspec": {
   "display_name": "Python 3 (ipykernel)",
   "language": "python",
   "name": "python3"
  },
  "language_info": {
   "codemirror_mode": {
    "name": "ipython",
    "version": 3
   },
   "file_extension": ".py",
   "mimetype": "text/x-python",
   "name": "python",
   "nbconvert_exporter": "python",
   "pygments_lexer": "ipython3",
   "version": "3.12.4"
  }
 },
 "nbformat": 4,
 "nbformat_minor": 5
}
