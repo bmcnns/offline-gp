{
 "cells": [
  {
   "cell_type": "code",
   "execution_count": 1,
   "id": "ad543450-2037-4bc7-950d-4aa55c54e7c0",
   "metadata": {},
   "outputs": [
    {
     "ename": "ModuleNotFoundError",
     "evalue": "No module named 'dataset'",
     "output_type": "error",
     "traceback": [
      "\u001b[31m---------------------------------------------------------------------------\u001b[39m",
      "\u001b[31mModuleNotFoundError\u001b[39m                       Traceback (most recent call last)",
      "\u001b[36mCell\u001b[39m\u001b[36m \u001b[39m\u001b[32mIn[1]\u001b[39m\u001b[32m, line 1\u001b[39m\n\u001b[32m----> \u001b[39m\u001b[32m1\u001b[39m \u001b[38;5;28;01mfrom\u001b[39;00m\u001b[38;5;250m \u001b[39m\u001b[34;01mdataset\u001b[39;00m\u001b[38;5;250m \u001b[39m\u001b[38;5;28;01mimport\u001b[39;00m load_dataset\n\u001b[32m      2\u001b[39m \u001b[38;5;28;01mfrom\u001b[39;00m\u001b[38;5;250m \u001b[39m\u001b[34;01msklearn\u001b[39;00m\u001b[34;01m.\u001b[39;00m\u001b[34;01mpreprocessing\u001b[39;00m\u001b[38;5;250m \u001b[39m\u001b[38;5;28;01mimport\u001b[39;00m StandardScaler\n\u001b[32m      3\u001b[39m \u001b[38;5;28;01mfrom\u001b[39;00m\u001b[38;5;250m \u001b[39m\u001b[34;01mpyoperon\u001b[39;00m\u001b[34;01m.\u001b[39;00m\u001b[34;01msklearn\u001b[39;00m\u001b[38;5;250m \u001b[39m\u001b[38;5;28;01mimport\u001b[39;00m SymbolicRegressor\n",
      "\u001b[31mModuleNotFoundError\u001b[39m: No module named 'dataset'"
     ]
    }
   ],
   "source": [
    "from dataset import load_dataset\n",
    "from sklearn.preprocessing import StandardScaler\n",
    "from pyoperon.sklearn import SymbolicRegressor\n",
    "import os\n",
    "import pickle\n",
    "\n",
    "def train(dataset_name, num_independent_runs, save_dir, hyperparameters):\n",
    "    X, y = load_dataset(dataset_name)\n",
    "    \n",
    "    scaler = StandardScaler()\n",
    "    X = scaler.fit_transform(X)\n",
    "\n",
    "    for run in range(num_independent_runs):\n",
    "        models = []\n",
    "        for action in range(y.shape[1]):\n",
    "            y_i = y[:, action]\n",
    "\n",
    "            start = random.randint(0, 1,000,000 - 1000)\n",
    "            end = start + 1000\n",
    "            X_subset = X[start:end]\n",
    "            y_subset = y_i[start:end]\n",
    "            \n",
    "            parameters = {\n",
    "                'allowed_symbols': 'add,sub,mul,div,fmin,fmax,pow,ceil,floor,exp,cos,sin,constant,variable',\n",
    "                'offspring_generator': 'basic',\n",
    "                'reinserter': 'keep-best',\n",
    "                'n_threads': 16,\n",
    "                'optimizer_iterations': 1,\n",
    "                'objectives': ['mse'],\n",
    "                'tournament_size': 3,\n",
    "                'generations': 1,\n",
    "                'warm_start': True,\n",
    "            }\n",
    "            \n",
    "            model = SymbolicRegressor(**parameters)\n",
    "\n",
    "            for generation in range(1000):\n",
    "                model.fit(X_subset, y_subset)\n",
    "                print(model.get_model_string(model.model_))\n",
    "                \n",
    "            models.append(model)\n",
    "        \n",
    "        os.makedirs(save_dir, exist_ok=True)\n",
    "        with open(f'{save_dir}/model_{run}.pkl', 'wb') as f:\n",
    "            pickle.dump((models, scaler), f)\n"
   ]
  },
  {
   "cell_type": "code",
   "execution_count": null,
   "id": "5d5904f8-cc4f-49b7-9d57-fbedf6366502",
   "metadata": {},
   "outputs": [],
   "source": []
  }
 ],
 "metadata": {
  "kernelspec": {
   "display_name": "Python 3 (ipykernel)",
   "language": "python",
   "name": "python3"
  },
  "language_info": {
   "codemirror_mode": {
    "name": "ipython",
    "version": 3
   },
   "file_extension": ".py",
   "mimetype": "text/x-python",
   "name": "python",
   "nbconvert_exporter": "python",
   "pygments_lexer": "ipython3",
   "version": "3.12.4"
  }
 },
 "nbformat": 4,
 "nbformat_minor": 5
}
