{
 "cells": [
  {
   "cell_type": "code",
   "execution_count": 1,
   "id": "99c27502-7635-4ac5-8513-c76e58666064",
   "metadata": {},
   "outputs": [],
   "source": [
    "import gymnasium as gym\n",
    "import numpy as np\n",
    "from IPython.display import display, Video\n",
    "\n",
    "from stable_baselines3 import TD3\n",
    "\n",
    "import os\n",
    "os.environ['MUJOCO_GL']='egl'"
   ]
  },
  {
   "cell_type": "code",
   "execution_count": 4,
   "id": "b59c13ba-87f5-42c5-bb0d-3c3f59b8558c",
   "metadata": {},
   "outputs": [],
   "source": [
    "def run_model(model_path, env_name, seed):\n",
    "    env = gym.make(env_name, render_mode='rgb_array')\n",
    "    model = TD3.load(model_path, env)\n",
    "    env = gym.wrappers.RecordVideo(env, \"videos\", episode_trigger=lambda x: True)\n",
    "\n",
    "    average_reward = 0.0\n",
    "    for i in range(10):\n",
    "        #obs = env.reset(seed=seed+i*100)[0]\n",
    "        obs = env.reset(seed=seed)[0]\n",
    "        \n",
    "        action = np.zeros(env.action_space.shape[0])\n",
    "     \n",
    "        terminated, truncated = False, False\n",
    "    \n",
    "        while not (terminated or truncated):\n",
    "            action, _ = model.predict(obs, deterministic=True)\n",
    "            obs, reward, terminated, truncated, _ = env.step(action)\n",
    "            average_reward += reward\n",
    "\n",
    "        # this line was added for debug\n",
    "        break\n",
    "    average_reward /= 10\n",
    "    print(f\"Average reward over the 10 episodes: {average_reward:.3f}\")\n",
    "    env.close()"
   ]
  },
  {
   "cell_type": "code",
   "execution_count": 5,
   "id": "d240c44b-a5e5-411e-86cd-f747c7e89150",
   "metadata": {},
   "outputs": [
    {
     "name": "stdout",
     "output_type": "stream",
     "text": [
      "Wrapping the env with a `Monitor` wrapper\n",
      "Wrapping the env in a DummyVecEnv.\n"
     ]
    },
    {
     "name": "stderr",
     "output_type": "stream",
     "text": [
      "/home/bryce/Repos/offline-gp/venv/lib/python3.12/site-packages/gymnasium/wrappers/rendering.py:283: UserWarning: \u001b[33mWARN: Overwriting existing videos at /home/bryce/Repos/offline-gp/videos folder (try specifying a different `video_folder` for the `RecordVideo` wrapper if this is not desired)\u001b[0m\n",
      "  logger.warn(\n"
     ]
    },
    {
     "name": "stdout",
     "output_type": "stream",
     "text": [
      "Average reward over the 10 episodes: 373.974\n"
     ]
    }
   ],
   "source": [
    "model_path = \"./models/td3/Hopper-v5\"\n",
    "run_model(model_path, \"Hopper-v5\", seed=24012000)"
   ]
  },
  {
   "cell_type": "code",
   "execution_count": 6,
   "id": "87821598-2fc0-498e-b6fd-074596be0409",
   "metadata": {},
   "outputs": [
    {
     "data": {
      "text/html": [
       "<video src=\"videos/rl-video-episode-0.mp4\" controls  >\n",
       "      Your browser does not support the <code>video</code> element.\n",
       "    </video>"
      ],
      "text/plain": [
       "<IPython.core.display.Video object>"
      ]
     },
     "metadata": {},
     "output_type": "display_data"
    }
   ],
   "source": [
    "# Display recorded video\n",
    "display(Video(url='videos/rl-video-episode-0.mp4'))"
   ]
  },
  {
   "cell_type": "code",
   "execution_count": null,
   "id": "0a469cbd-e042-4a8e-955d-6c799f27ab7e",
   "metadata": {},
   "outputs": [],
   "source": []
  }
 ],
 "metadata": {
  "kernelspec": {
   "display_name": "Python 3 (ipykernel)",
   "language": "python",
   "name": "python3"
  },
  "language_info": {
   "codemirror_mode": {
    "name": "ipython",
    "version": 3
   },
   "file_extension": ".py",
   "mimetype": "text/x-python",
   "name": "python",
   "nbconvert_exporter": "python",
   "pygments_lexer": "ipython3",
   "version": "3.12.4"
  }
 },
 "nbformat": 4,
 "nbformat_minor": 5
}
