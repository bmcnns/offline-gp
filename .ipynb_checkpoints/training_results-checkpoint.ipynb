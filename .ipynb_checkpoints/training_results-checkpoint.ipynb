{
 "cells": [
  {
   "cell_type": "code",
   "execution_count": 3,
   "id": "406a5067-7f03-4f50-bb85-e6949248840c",
   "metadata": {},
   "outputs": [],
   "source": [
    "import os\n",
    "import pickle\n",
    "from pyoperon.sklearn import SymbolicRegressor\n",
    "from gp.model import ImitationLearner\n",
    "import matplotlib.pyplot as plt\n",
    "import gymnasium as gym\n",
    "import numpy as np"
   ]
  },
  {
   "cell_type": "code",
   "execution_count": 4,
   "id": "efa675cf-5501-4cae-876a-3ba5ec0d17c8",
   "metadata": {},
   "outputs": [],
   "source": [
    "complete_models = list(filter(lambda x: not x.split('.')[0][-1].isdigit(), os.listdir(\"models/\")))"
   ]
  },
  {
   "cell_type": "code",
   "execution_count": 5,
   "id": "577fbe6c-b8c8-4507-9273-18f694ac992d",
   "metadata": {},
   "outputs": [
    {
     "name": "stdout",
     "output_type": "stream",
     "text": [
      "Loading model Hopper-v2-ImitationLearner.pkl...\n",
      "Loading model HalfCheetah-Expert-v2-ImitationLearner.pkl...\n",
      "Loading model Walker2d-v2-ImitationLearner.pkl...\n"
     ]
    }
   ],
   "source": [
    "models = []\n",
    "for model_file in complete_models:\n",
    "    with open(f\"models/{model_file}\", 'rb') as f:\n",
    "        print(f\"Loading model {model_file}...\")\n",
    "        model = pickle.load(f)\n",
    "        models.append(model)"
   ]
  },
  {
   "cell_type": "code",
   "execution_count": 6,
   "id": "bec5315b-f1c4-42a4-988b-0aa4e1588c1a",
   "metadata": {},
   "outputs": [
    {
     "data": {
      "image/png": "[encoded data removed]",
      "text/plain": [
       "<Figure size 640x480 with 1 Axes>"
      ]
     },
     "metadata": {},
     "output_type": "display_data"
    }
   ],
   "source": [
    "for mse, num_exprs in models[1].histories:\n",
    "    plt.scatter(x=mse, y=num_exprs, color='red')"
   ]
  },
  {
   "cell_type": "code",
   "execution_count": 14,
   "id": "b59c13ba-87f5-42c5-bb0d-3c3f59b8558c",
   "metadata": {},
   "outputs": [],
   "source": [
    "def run_model(env_name, model):\n",
    "    env = gym.make(env_name)\n",
    "    env = gym.wrappers.RecordVideo(env, \"videos\", episode_trigger=lambda x: True)\n",
    "    \n",
    "    \n",
    "    obs = env.reset()[0]\n",
    "\n",
    "    action = np.zeros(env.action_space.shape[0])\n",
    "    print(action.shape)\n",
    "\n",
    "    terminated, truncated = False, False\n",
    "    \n",
    "    while not (terminated or truncated):\n",
    "\n",
    "        # Get the next action\n",
    "        for i, regressor in enumerate(model.regressors):\n",
    "            action[i] = regressor.predict(obs.reshape(1,-1)).item()\n",
    "        action = np.clip(action, a_min=0.0, a_max=1.0)\n",
    "        print(action)\n",
    "\n",
    "        obs, reward, terminated, truncated, _ = env.step(action)\n",
    "        \n",
    "    env.close()"
   ]
  },
  {
   "cell_type": "code",
   "execution_count": 15,
   "id": "d240c44b-a5e5-411e-86cd-f747c7e89150",
   "metadata": {},
   "outputs": [
    {
     "name": "stdout",
     "output_type": "stream",
     "text": [
      "(3,)\n",
      "[0.         0.37877533 0.99056304]\n",
      "[0.        0.2014198 1.       ]\n",
      "[0.         0.13630174 1.        ]\n",
      "[0.         0.15418075 0.95764309]\n",
      "[0.         0.19443525 0.84767169]\n",
      "[0.         0.2771641  0.69251633]\n",
      "[0.         0.41422826 0.44690129]\n",
      "[0.05597522 0.57132816 0.1309742 ]\n",
      "[0.1065684  0.76894993 0.        ]\n",
      "[0.12012875 0.97372532 0.        ]\n",
      "[0.12795982 1.         0.        ]\n",
      "[0.12865111 1.         0.        ]\n",
      "[0. 1. 0.]\n",
      "[0. 1. 0.]\n",
      "[0. 1. 0.]\n",
      "[0. 1. 0.]\n",
      "[0. 1. 0.]\n",
      "[0. 1. 0.]\n",
      "[0. 1. 0.]\n",
      "[0.         1.         0.01383954]\n",
      "[0.         1.         0.04685133]\n",
      "[0.         1.         0.52579302]\n",
      "[0.        1.        0.9548344]\n",
      "[0.0877331  1.         0.80090719]\n",
      "[0.        1.        0.9780665]\n",
      "[0. 1. 1.]\n",
      "[0. 1. 1.]\n",
      "[0. 1. 1.]\n",
      "[0.         1.         0.99811542]\n",
      "[0.         1.         0.96749687]\n",
      "[0.         1.         0.94356048]\n"
     ]
    }
   ],
   "source": [
    "run_model(\"Hopper-v5\", models[0])"
   ]
  },
  {
   "cell_type": "code",
   "execution_count": null,
   "id": "37f85c0c-5a5c-4ec5-be0c-006c0892c8c1",
   "metadata": {},
   "outputs": [],
   "source": []
  },
  {
   "cell_type": "code",
   "execution_count": null,
   "id": "789462db-2415-4da5-b4b7-ff972b1cf7c0",
   "metadata": {},
   "outputs": [],
   "source": []
  }
 ],
 "metadata": {
  "kernelspec": {
   "display_name": "Python 3 (ipykernel)",
   "language": "python",
   "name": "python3"
  },
  "language_info": {
   "codemirror_mode": {
    "name": "ipython",
    "version": 3
   },
   "file_extension": ".py",
   "mimetype": "text/x-python",
   "name": "python",
   "nbconvert_exporter": "python",
   "pygments_lexer": "ipython3",
   "version": "3.12.3"
  }
 },
 "nbformat": 4,
 "nbformat_minor": 5
}
